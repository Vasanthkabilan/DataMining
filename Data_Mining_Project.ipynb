{
 "cells": [
  {
   "cell_type": "code",
   "execution_count": null,
   "id": "969ed3af",
   "metadata": {},
   "outputs": [],
   "source": [
    "# exploratory data analysis and visualization on the dataset."
   ]
  },
  {
   "cell_type": "code",
   "execution_count": 1,
   "id": "8d00b0a1",
   "metadata": {},
   "outputs": [],
   "source": [
    "# Importing pandas, matplotlib, seaborn and numpy\n",
    "import pandas as pd\n",
    "import matplotlib.pyplot as plt\n",
    "%matplotlib inline\n",
    "import seaborn as sns\n",
    "import numpy as np"
   ]
  },
  {
   "cell_type": "code",
   "execution_count": 4,
   "id": "e24cef44",
   "metadata": {},
   "outputs": [],
   "source": [
    "# Loading datasets into pandas Dataframe\n",
    "train_data =pd.read_csv('mitbih_train.csv')\n",
    "test_data =pd.read_csv('mitbih_test.csv')"
   ]
  },
  {
   "cell_type": "code",
   "execution_count": 6,
   "id": "7ac4e2d0",
   "metadata": {},
   "outputs": [
    {
     "name": "stdout",
     "output_type": "stream",
     "text": [
      "train_data:\n",
      "<class 'pandas.core.frame.DataFrame'>\n",
      "RangeIndex: 87553 entries, 0 to 87552\n",
      "Columns: 188 entries, 9.779411554336547852e-01 to 0.000000000000000000e+00.88\n",
      "dtypes: float64(188)\n",
      "memory usage: 125.6 MB\n",
      "None\n",
      "\n",
      "test_data Info:\n",
      "<class 'pandas.core.frame.DataFrame'>\n",
      "RangeIndex: 21891 entries, 0 to 21890\n",
      "Columns: 188 entries, 1.000000000000000000e+00 to 0.000000000000000000e+00.65\n",
      "dtypes: float64(188)\n",
      "memory usage: 31.4 MB\n",
      "None\n"
     ]
    }
   ],
   "source": [
    "# Displaying basic information about the train and test dataset\n",
    "print(\"train_data:\")\n",
    "print(train_data.info())\n",
    "print(\"\\ntest_data Info:\")\n",
    "print(test_data.info())"
   ]
  },
  {
   "cell_type": "code",
   "execution_count": null,
   "id": "12dfb68e",
   "metadata": {},
   "outputs": [],
   "source": []
  }
 ],
 "metadata": {
  "kernelspec": {
   "display_name": "Python 3 (ipykernel)",
   "language": "python",
   "name": "python3"
  },
  "language_info": {
   "codemirror_mode": {
    "name": "ipython",
    "version": 3
   },
   "file_extension": ".py",
   "mimetype": "text/x-python",
   "name": "python",
   "nbconvert_exporter": "python",
   "pygments_lexer": "ipython3",
   "version": "3.11.5"
  }
 },
 "nbformat": 4,
 "nbformat_minor": 5
}
